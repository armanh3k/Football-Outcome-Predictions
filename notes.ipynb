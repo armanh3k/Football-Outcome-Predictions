{
 "cells": [
  {
   "cell_type": "markdown",
   "metadata": {},
   "source": [
    "## Useful Resources:\n",
    "\n",
    "- https://towardsdatascience.com/what-ive-learnt-predicting-soccer-matches-with-machine-learning-b3f8b445149d\n",
    "- https://towardsdatascience.com/machine-learning-algorithms-for-football-prediction-using-statistics-from-brazilian-championship-51b7d4ea0bc8\n",
    "- https://www.soccerstats.com/latest.asp?league=england_2020"
   ]
  },
  {
   "cell_type": "markdown",
   "metadata": {},
   "source": [
    "Feature Engineering Notes:\n",
    "- For total_streaks, does a draw break a streak? Maybe with streak go negative if on losing streak yeah.\n",
    "\n",
    "\n",
    "\n",
    "- TO DO\n",
    "    - Full clean dataset. Go through each league year etc.\n",
    "    - Error on match merge team merge etc\n",
    "    - Stacked bar graph \n",
    "    - DOCUMENTATION GENERAL DO THIS FIRST\n",
    "    - MILESTONE 1: EDA and Data Cleaning\n",
    "        - Create stacked bar graphs out outcomes per season for each league\n",
    "        - Handle any missing values and stuff like that with error handling try except etc\n",
    "        - Join match_info and team_info to each league\n",
    "    - MILESTONE 2: Feature Engineering\n",
    "        - Error handling in functions for when unexpected input occurs, not all seasons and leagues have same format. I.e. make functions more generalised.\n",
    "        - Create pipeline which appends created features onto dataframe for each league\n",
    "        - Output cleaned dataframe into csv files for each season\n",
    "    - MILESTONE 3: Upload the data to the database\n",
    "        - RDS instance in AWS\n",
    "        - Prob skip this one until the end\n",
    "    - MILESTONE 4: Model Training\n",
    "        - Test different features see what difference they make on results\n",
    "\n",
    "\n",
    "\n",
    "- PROBLEMS\n",
    "    - 2021 PREMIER LEAGUE MATCH 185 ASTON VILLA VS EVERTON HAS WEIRD RESULTS COLUMN VALUE (17 JAN) Should be 0-0 [https://www.besoccer.com/match/aston-villa-fc/everton-fc/202172414]\n",
    "    - Create like pipeline or dataframe that catches all troublesome records the pipeline struggling to do"
   ]
  },
  {
   "cell_type": "markdown",
   "metadata": {},
   "source": [
    "| Home_Team      | Away_Team   | Result | Link                                                                      | Season | Round | League         |\n",
    "|----------------|-------------|--------|---------------------------------------------------------------------------|--------|-------|----------------|\n",
    "| Fulham         | Arsenal     | 0-3    | https://www.besoccer.com/match/fulham/arsenal/202172184                   | 2021   | 1     | premier_league |\n",
    "| Crystal Palace | Southampton | 1-0    | https://www.besoccer.com/match/crystal-palace-fc/southampton-fc/202172183 | 2021   | 1     | premier_league |"
   ]
  },
  {
   "cell_type": "markdown",
   "metadata": {},
   "source": []
  }
 ],
 "metadata": {
  "language_info": {
   "name": "python"
  },
  "orig_nbformat": 4
 },
 "nbformat": 4,
 "nbformat_minor": 2
}
