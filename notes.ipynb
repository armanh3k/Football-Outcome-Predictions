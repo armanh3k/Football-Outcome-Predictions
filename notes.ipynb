{
 "cells": [
  {
   "cell_type": "markdown",
   "metadata": {},
   "source": [
    "Feature Engineering Notes:\n",
    "\n",
    "- Could've got position / points (points_position) from total number of wins, draws, losses features prior to game instead of iterating through each row again."
   ]
  }
 ],
 "metadata": {
  "language_info": {
   "name": "python"
  },
  "orig_nbformat": 4
 },
 "nbformat": 4,
 "nbformat_minor": 2
}
