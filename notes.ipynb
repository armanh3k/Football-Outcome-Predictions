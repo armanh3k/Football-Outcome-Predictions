{
 "cells": [
  {
   "cell_type": "markdown",
   "metadata": {},
   "source": [
    "## Useful Resources:\n",
    "\n",
    "- https://towardsdatascience.com/what-ive-learnt-predicting-soccer-matches-with-machine-learning-b3f8b445149d\n",
    "- https://towardsdatascience.com/machine-learning-algorithms-for-football-prediction-using-statistics-from-brazilian-championship-51b7d4ea0bc8\n",
    "- https://www.soccerstats.com/latest.asp?league=england_2020"
   ]
  },
  {
   "cell_type": "markdown",
   "metadata": {},
   "source": [
    "Feature Engineering Notes:\n",
    "\n",
    "- Could've got position / points (points_position) from total number of wins, draws, losses features prior to game instead of iterating through each row again.\n",
    "- For total_streaks, does a draw break a streak? Maybe with streak go negative if on losing streak yeah.\n",
    "- Add extra argument in add_elo function\n",
    "- How do I make everything look less messy!!\n",
    "\n",
    "\n",
    "- TO DO\n",
    "    - Full clean dataset. Go through each league year etc.\n",
    "    - Error on match merge team merge etc\n",
    "    - Stacked bar graph "
   ]
  },
  {
   "cell_type": "markdown",
   "metadata": {},
   "source": []
  }
 ],
 "metadata": {
  "language_info": {
   "name": "python"
  },
  "orig_nbformat": 4
 },
 "nbformat": 4,
 "nbformat_minor": 2
}
