{
 "cells": [
  {
   "cell_type": "markdown",
   "metadata": {},
   "source": [
    "Feature Engineering Notes:\n",
    "\n",
    "- Could've got position / points (points_position) from total number of wins, draws, losses features prior to game instead of iterating through each row again.\n",
    "- For total_streaks, does a draw break a streak?\n",
    "- Add extra argument in add_elo function\n",
    "\n",
    "\n",
    "- TO DO\n",
    "    - Full clean dataset. Go through each league year etc."
   ]
  },
  {
   "cell_type": "markdown",
   "metadata": {},
   "source": []
  }
 ],
 "metadata": {
  "language_info": {
   "name": "python"
  },
  "orig_nbformat": 4
 },
 "nbformat": 4,
 "nbformat_minor": 2
}
