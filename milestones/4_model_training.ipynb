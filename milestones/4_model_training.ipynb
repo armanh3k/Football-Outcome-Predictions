{
 "cells": [
  {
   "cell_type": "markdown",
   "metadata": {},
   "source": [
    "# Football Match Outcome Prediction - Project\n",
    "# Milestone 4: Model Training"
   ]
  },
  {
   "cell_type": "code",
   "execution_count": 9,
   "metadata": {},
   "outputs": [],
   "source": [
    "import pandas as pd\n",
    "import pandas as pd\n",
    "import seaborn as sns\n",
    "import matplotlib.pyplot as plt\n",
    "\n",
    "MY_PATH = '/home/arman/Documents/AiCore/projects/football' # add your own path here\n"
   ]
  },
  {
   "cell_type": "markdown",
   "metadata": {},
   "source": [
    "We finally have a cleaned dataset with extra features that may be useful. Now it is time to train a model using this dataset which will attempt to predict match results."
   ]
  },
  {
   "cell_type": "markdown",
   "metadata": {},
   "source": [
    "## 4.1 Get Baseline Score"
   ]
  },
  {
   "cell_type": "markdown",
   "metadata": {},
   "source": [
    "Firstly, we need to get a baseline score from a simple model.\n",
    "\n",
    "Let's read in the cleaned and feature engineered dataset:"
   ]
  },
  {
   "cell_type": "markdown",
   "metadata": {},
   "source": [
    "### 4.1.1 Read in dataset"
   ]
  },
  {
   "cell_type": "code",
   "execution_count": 96,
   "metadata": {},
   "outputs": [
    {
     "data": {
      "text/html": [
       "<div>\n",
       "<style scoped>\n",
       "    .dataframe tbody tr th:only-of-type {\n",
       "        vertical-align: middle;\n",
       "    }\n",
       "\n",
       "    .dataframe tbody tr th {\n",
       "        vertical-align: top;\n",
       "    }\n",
       "\n",
       "    .dataframe thead th {\n",
       "        text-align: right;\n",
       "    }\n",
       "</style>\n",
       "<table border=\"1\" class=\"dataframe\">\n",
       "  <thead>\n",
       "    <tr style=\"text-align: right;\">\n",
       "      <th></th>\n",
       "      <th>Home_Team</th>\n",
       "      <th>Away_Team</th>\n",
       "      <th>Result</th>\n",
       "      <th>Link</th>\n",
       "      <th>Season</th>\n",
       "      <th>Round</th>\n",
       "      <th>League</th>\n",
       "      <th>Number_teams</th>\n",
       "      <th>Total_rounds</th>\n",
       "      <th>Home_Goals</th>\n",
       "      <th>...</th>\n",
       "      <th>Draws_When_Away</th>\n",
       "      <th>Losses_When_Away</th>\n",
       "      <th>Points_Home</th>\n",
       "      <th>Points_Away</th>\n",
       "      <th>Position_Home</th>\n",
       "      <th>Position_Away</th>\n",
       "      <th>Total_Goals_For_Home_Team</th>\n",
       "      <th>Total_Goals_Against_Home_Team</th>\n",
       "      <th>Total_Goals_For_Away_Team</th>\n",
       "      <th>Total_Goals_Against_Away_Team</th>\n",
       "    </tr>\n",
       "  </thead>\n",
       "  <tbody>\n",
       "    <tr>\n",
       "      <th>0</th>\n",
       "      <td>Cannes</td>\n",
       "      <td>Montpellier</td>\n",
       "      <td>2-1</td>\n",
       "      <td>https://www.besoccer.com/match/as-cannes/montp...</td>\n",
       "      <td>1991</td>\n",
       "      <td>1</td>\n",
       "      <td>ligue_1</td>\n",
       "      <td>20</td>\n",
       "      <td>38</td>\n",
       "      <td>2</td>\n",
       "      <td>...</td>\n",
       "      <td>0.0</td>\n",
       "      <td>0.0</td>\n",
       "      <td>0.0</td>\n",
       "      <td>0.0</td>\n",
       "      <td>0.0</td>\n",
       "      <td>0.0</td>\n",
       "      <td>0.0</td>\n",
       "      <td>0.0</td>\n",
       "      <td>0.0</td>\n",
       "      <td>0.0</td>\n",
       "    </tr>\n",
       "    <tr>\n",
       "      <th>1</th>\n",
       "      <td>PSG</td>\n",
       "      <td>Nancy</td>\n",
       "      <td>2-1</td>\n",
       "      <td>https://www.besoccer.com/match/paris-saint-ger...</td>\n",
       "      <td>1991</td>\n",
       "      <td>1</td>\n",
       "      <td>ligue_1</td>\n",
       "      <td>20</td>\n",
       "      <td>38</td>\n",
       "      <td>2</td>\n",
       "      <td>...</td>\n",
       "      <td>0.0</td>\n",
       "      <td>0.0</td>\n",
       "      <td>0.0</td>\n",
       "      <td>0.0</td>\n",
       "      <td>0.0</td>\n",
       "      <td>0.0</td>\n",
       "      <td>0.0</td>\n",
       "      <td>0.0</td>\n",
       "      <td>0.0</td>\n",
       "      <td>0.0</td>\n",
       "    </tr>\n",
       "    <tr>\n",
       "      <th>2</th>\n",
       "      <td>Olympique Marseille</td>\n",
       "      <td>Nice</td>\n",
       "      <td>1-0</td>\n",
       "      <td>https://www.besoccer.com/match/olympique-marse...</td>\n",
       "      <td>1991</td>\n",
       "      <td>1</td>\n",
       "      <td>ligue_1</td>\n",
       "      <td>20</td>\n",
       "      <td>38</td>\n",
       "      <td>1</td>\n",
       "      <td>...</td>\n",
       "      <td>0.0</td>\n",
       "      <td>0.0</td>\n",
       "      <td>0.0</td>\n",
       "      <td>0.0</td>\n",
       "      <td>0.0</td>\n",
       "      <td>0.0</td>\n",
       "      <td>0.0</td>\n",
       "      <td>0.0</td>\n",
       "      <td>0.0</td>\n",
       "      <td>0.0</td>\n",
       "    </tr>\n",
       "    <tr>\n",
       "      <th>3</th>\n",
       "      <td>Metz</td>\n",
       "      <td>Lille</td>\n",
       "      <td>2-2</td>\n",
       "      <td>https://www.besoccer.com/match/metz/lillestrom...</td>\n",
       "      <td>1991</td>\n",
       "      <td>1</td>\n",
       "      <td>ligue_1</td>\n",
       "      <td>20</td>\n",
       "      <td>38</td>\n",
       "      <td>2</td>\n",
       "      <td>...</td>\n",
       "      <td>0.0</td>\n",
       "      <td>0.0</td>\n",
       "      <td>0.0</td>\n",
       "      <td>0.0</td>\n",
       "      <td>0.0</td>\n",
       "      <td>0.0</td>\n",
       "      <td>0.0</td>\n",
       "      <td>0.0</td>\n",
       "      <td>0.0</td>\n",
       "      <td>0.0</td>\n",
       "    </tr>\n",
       "    <tr>\n",
       "      <th>4</th>\n",
       "      <td>Sochaux</td>\n",
       "      <td>Stade Brestois</td>\n",
       "      <td>1-1</td>\n",
       "      <td>https://www.besoccer.com/match/sochaux/stade-b...</td>\n",
       "      <td>1991</td>\n",
       "      <td>1</td>\n",
       "      <td>ligue_1</td>\n",
       "      <td>20</td>\n",
       "      <td>38</td>\n",
       "      <td>1</td>\n",
       "      <td>...</td>\n",
       "      <td>0.0</td>\n",
       "      <td>0.0</td>\n",
       "      <td>0.0</td>\n",
       "      <td>0.0</td>\n",
       "      <td>0.0</td>\n",
       "      <td>0.0</td>\n",
       "      <td>0.0</td>\n",
       "      <td>0.0</td>\n",
       "      <td>0.0</td>\n",
       "      <td>0.0</td>\n",
       "    </tr>\n",
       "    <tr>\n",
       "      <th>...</th>\n",
       "      <td>...</td>\n",
       "      <td>...</td>\n",
       "      <td>...</td>\n",
       "      <td>...</td>\n",
       "      <td>...</td>\n",
       "      <td>...</td>\n",
       "      <td>...</td>\n",
       "      <td>...</td>\n",
       "      <td>...</td>\n",
       "      <td>...</td>\n",
       "      <td>...</td>\n",
       "      <td>...</td>\n",
       "      <td>...</td>\n",
       "      <td>...</td>\n",
       "      <td>...</td>\n",
       "      <td>...</td>\n",
       "      <td>...</td>\n",
       "      <td>...</td>\n",
       "      <td>...</td>\n",
       "      <td>...</td>\n",
       "      <td>...</td>\n",
       "    </tr>\n",
       "    <tr>\n",
       "      <th>131688</th>\n",
       "      <td>Erzgebirge Aue</td>\n",
       "      <td>FC St. Pauli</td>\n",
       "      <td>1-3</td>\n",
       "      <td>https://www.besoccer.com/match/fc-erzgebirge-a...</td>\n",
       "      <td>2021</td>\n",
       "      <td>28</td>\n",
       "      <td>2_liga</td>\n",
       "      <td>18</td>\n",
       "      <td>28</td>\n",
       "      <td>1</td>\n",
       "      <td>...</td>\n",
       "      <td>5.0</td>\n",
       "      <td>4.0</td>\n",
       "      <td>37.0</td>\n",
       "      <td>38.0</td>\n",
       "      <td>9.0</td>\n",
       "      <td>8.0</td>\n",
       "      <td>36.0</td>\n",
       "      <td>37.0</td>\n",
       "      <td>41.0</td>\n",
       "      <td>43.0</td>\n",
       "    </tr>\n",
       "    <tr>\n",
       "      <th>131689</th>\n",
       "      <td>Paderborn</td>\n",
       "      <td>VfL Bochum</td>\n",
       "      <td>3-0</td>\n",
       "      <td>https://www.besoccer.com/match/paderborn/bochu...</td>\n",
       "      <td>2021</td>\n",
       "      <td>28</td>\n",
       "      <td>2_liga</td>\n",
       "      <td>18</td>\n",
       "      <td>28</td>\n",
       "      <td>3</td>\n",
       "      <td>...</td>\n",
       "      <td>1.0</td>\n",
       "      <td>4.0</td>\n",
       "      <td>35.0</td>\n",
       "      <td>54.0</td>\n",
       "      <td>12.0</td>\n",
       "      <td>1.0</td>\n",
       "      <td>35.0</td>\n",
       "      <td>34.0</td>\n",
       "      <td>50.0</td>\n",
       "      <td>27.0</td>\n",
       "    </tr>\n",
       "    <tr>\n",
       "      <th>131690</th>\n",
       "      <td>Hannover 96</td>\n",
       "      <td>Heidenheim</td>\n",
       "      <td>1-3</td>\n",
       "      <td>https://www.besoccer.com/match/hannover-96/hei...</td>\n",
       "      <td>2021</td>\n",
       "      <td>28</td>\n",
       "      <td>2_liga</td>\n",
       "      <td>18</td>\n",
       "      <td>28</td>\n",
       "      <td>1</td>\n",
       "      <td>...</td>\n",
       "      <td>3.0</td>\n",
       "      <td>7.0</td>\n",
       "      <td>36.0</td>\n",
       "      <td>42.0</td>\n",
       "      <td>10.0</td>\n",
       "      <td>6.0</td>\n",
       "      <td>40.0</td>\n",
       "      <td>33.0</td>\n",
       "      <td>38.0</td>\n",
       "      <td>35.0</td>\n",
       "    </tr>\n",
       "    <tr>\n",
       "      <th>131691</th>\n",
       "      <td>VfL Osnabrück</td>\n",
       "      <td>Braunschweig</td>\n",
       "      <td>0-4</td>\n",
       "      <td>https://www.besoccer.com/match/vfl-osnabruck/e...</td>\n",
       "      <td>2021</td>\n",
       "      <td>28</td>\n",
       "      <td>2_liga</td>\n",
       "      <td>18</td>\n",
       "      <td>28</td>\n",
       "      <td>0</td>\n",
       "      <td>...</td>\n",
       "      <td>5.0</td>\n",
       "      <td>8.0</td>\n",
       "      <td>26.0</td>\n",
       "      <td>26.0</td>\n",
       "      <td>15.0</td>\n",
       "      <td>16.0</td>\n",
       "      <td>25.0</td>\n",
       "      <td>40.0</td>\n",
       "      <td>23.0</td>\n",
       "      <td>46.0</td>\n",
       "    </tr>\n",
       "    <tr>\n",
       "      <th>131692</th>\n",
       "      <td>Würzburger Kickers</td>\n",
       "      <td>Nürnberg</td>\n",
       "      <td>1-1</td>\n",
       "      <td>https://www.besoccer.com/match/wurzburger-kick...</td>\n",
       "      <td>2021</td>\n",
       "      <td>28</td>\n",
       "      <td>2_liga</td>\n",
       "      <td>18</td>\n",
       "      <td>28</td>\n",
       "      <td>1</td>\n",
       "      <td>...</td>\n",
       "      <td>3.0</td>\n",
       "      <td>6.0</td>\n",
       "      <td>19.0</td>\n",
       "      <td>32.0</td>\n",
       "      <td>18.0</td>\n",
       "      <td>13.0</td>\n",
       "      <td>29.0</td>\n",
       "      <td>54.0</td>\n",
       "      <td>35.0</td>\n",
       "      <td>41.0</td>\n",
       "    </tr>\n",
       "  </tbody>\n",
       "</table>\n",
       "<p>131693 rows × 38 columns</p>\n",
       "</div>"
      ],
      "text/plain": [
       "                  Home_Team       Away_Team Result  \\\n",
       "0                    Cannes     Montpellier    2-1   \n",
       "1                       PSG           Nancy    2-1   \n",
       "2       Olympique Marseille            Nice    1-0   \n",
       "3                      Metz           Lille    2-2   \n",
       "4                   Sochaux  Stade Brestois    1-1   \n",
       "...                     ...             ...    ...   \n",
       "131688       Erzgebirge Aue    FC St. Pauli    1-3   \n",
       "131689            Paderborn      VfL Bochum    3-0   \n",
       "131690          Hannover 96      Heidenheim    1-3   \n",
       "131691        VfL Osnabrück    Braunschweig    0-4   \n",
       "131692   Würzburger Kickers        Nürnberg    1-1   \n",
       "\n",
       "                                                     Link  Season  Round  \\\n",
       "0       https://www.besoccer.com/match/as-cannes/montp...    1991      1   \n",
       "1       https://www.besoccer.com/match/paris-saint-ger...    1991      1   \n",
       "2       https://www.besoccer.com/match/olympique-marse...    1991      1   \n",
       "3       https://www.besoccer.com/match/metz/lillestrom...    1991      1   \n",
       "4       https://www.besoccer.com/match/sochaux/stade-b...    1991      1   \n",
       "...                                                   ...     ...    ...   \n",
       "131688  https://www.besoccer.com/match/fc-erzgebirge-a...    2021     28   \n",
       "131689  https://www.besoccer.com/match/paderborn/bochu...    2021     28   \n",
       "131690  https://www.besoccer.com/match/hannover-96/hei...    2021     28   \n",
       "131691  https://www.besoccer.com/match/vfl-osnabruck/e...    2021     28   \n",
       "131692  https://www.besoccer.com/match/wurzburger-kick...    2021     28   \n",
       "\n",
       "         League  Number_teams  Total_rounds  Home_Goals  ...  Draws_When_Away  \\\n",
       "0       ligue_1            20            38           2  ...              0.0   \n",
       "1       ligue_1            20            38           2  ...              0.0   \n",
       "2       ligue_1            20            38           1  ...              0.0   \n",
       "3       ligue_1            20            38           2  ...              0.0   \n",
       "4       ligue_1            20            38           1  ...              0.0   \n",
       "...         ...           ...           ...         ...  ...              ...   \n",
       "131688   2_liga            18            28           1  ...              5.0   \n",
       "131689   2_liga            18            28           3  ...              1.0   \n",
       "131690   2_liga            18            28           1  ...              3.0   \n",
       "131691   2_liga            18            28           0  ...              5.0   \n",
       "131692   2_liga            18            28           1  ...              3.0   \n",
       "\n",
       "        Losses_When_Away  Points_Home  Points_Away  Position_Home  \\\n",
       "0                    0.0          0.0          0.0            0.0   \n",
       "1                    0.0          0.0          0.0            0.0   \n",
       "2                    0.0          0.0          0.0            0.0   \n",
       "3                    0.0          0.0          0.0            0.0   \n",
       "4                    0.0          0.0          0.0            0.0   \n",
       "...                  ...          ...          ...            ...   \n",
       "131688               4.0         37.0         38.0            9.0   \n",
       "131689               4.0         35.0         54.0           12.0   \n",
       "131690               7.0         36.0         42.0           10.0   \n",
       "131691               8.0         26.0         26.0           15.0   \n",
       "131692               6.0         19.0         32.0           18.0   \n",
       "\n",
       "        Position_Away  Total_Goals_For_Home_Team  \\\n",
       "0                 0.0                        0.0   \n",
       "1                 0.0                        0.0   \n",
       "2                 0.0                        0.0   \n",
       "3                 0.0                        0.0   \n",
       "4                 0.0                        0.0   \n",
       "...               ...                        ...   \n",
       "131688            8.0                       36.0   \n",
       "131689            1.0                       35.0   \n",
       "131690            6.0                       40.0   \n",
       "131691           16.0                       25.0   \n",
       "131692           13.0                       29.0   \n",
       "\n",
       "        Total_Goals_Against_Home_Team  Total_Goals_For_Away_Team  \\\n",
       "0                                 0.0                        0.0   \n",
       "1                                 0.0                        0.0   \n",
       "2                                 0.0                        0.0   \n",
       "3                                 0.0                        0.0   \n",
       "4                                 0.0                        0.0   \n",
       "...                               ...                        ...   \n",
       "131688                           37.0                       41.0   \n",
       "131689                           34.0                       50.0   \n",
       "131690                           33.0                       38.0   \n",
       "131691                           40.0                       23.0   \n",
       "131692                           54.0                       35.0   \n",
       "\n",
       "        Total_Goals_Against_Away_Team  \n",
       "0                                 0.0  \n",
       "1                                 0.0  \n",
       "2                                 0.0  \n",
       "3                                 0.0  \n",
       "4                                 0.0  \n",
       "...                               ...  \n",
       "131688                           43.0  \n",
       "131689                           27.0  \n",
       "131690                           35.0  \n",
       "131691                           46.0  \n",
       "131692                           41.0  \n",
       "\n",
       "[131693 rows x 38 columns]"
      ]
     },
     "execution_count": 96,
     "metadata": {},
     "output_type": "execute_result"
    }
   ],
   "source": [
    "match_dataset = pd.read_csv(f\"{MY_PATH}/Football-Outcome-Predictions/datasets/cleaned_football_datasets/final_dataset_no_merge.csv\")\n",
    "\n",
    "match_dataset.drop([\"Unnamed: 0\"], axis=1, inplace=True)\n",
    "match_dataset"
   ]
  },
  {
   "cell_type": "code",
   "execution_count": 97,
   "metadata": {},
   "outputs": [
    {
     "data": {
      "text/plain": [
       "Elo_away                         9743\n",
       "Elo_home                         9743\n",
       "Home_Team                           0\n",
       "Total_Loss_Home_Team                0\n",
       "Total_Draws_Away_Team               0\n",
       "Total_Loss_Away_Team                0\n",
       "Wins_When_Home                      0\n",
       "Draws_When_Home                     0\n",
       "Losses_When_Home                    0\n",
       "Wins_When_Away                      0\n",
       "Draws_When_Away                     0\n",
       "Losses_When_Away                    0\n",
       "Points_Home                         0\n",
       "Points_Away                         0\n",
       "Position_Home                       0\n",
       "Position_Away                       0\n",
       "Total_Goals_For_Home_Team           0\n",
       "Total_Goals_Against_Home_Team       0\n",
       "Total_Goals_For_Away_Team           0\n",
       "Total_Wins_Away_Team                0\n",
       "Total_Draws_Home_Team               0\n",
       "Away_Team                           0\n",
       "Total_rounds                        0\n",
       "Result                              0\n",
       "Link                                0\n",
       "Season                              0\n",
       "Round                               0\n",
       "League                              0\n",
       "Number_teams                        0\n",
       "Home_Goals                          0\n",
       "Total_Wins_Home_Team                0\n",
       "Away_Goals                          0\n",
       "Label                               0\n",
       "Total_Streak_Home_Team              0\n",
       "Total_Streak_Away_Team              0\n",
       "Streak_When_Home                    0\n",
       "Streak_When_Away                    0\n",
       "Total_Goals_Against_Away_Team       0\n",
       "dtype: int64"
      ]
     },
     "execution_count": 97,
     "metadata": {},
     "output_type": "execute_result"
    }
   ],
   "source": [
    "match_dataset.isnull().sum().sort_values(ascending=False) "
   ]
  },
  {
   "cell_type": "markdown",
   "metadata": {},
   "source": [
    "There quite a few records which have null elo values. These were not dropped during the feature engineering stage as the created features required these records to have accurate values. But now as we have all the features we need, we can drop all records with null elo's."
   ]
  },
  {
   "cell_type": "code",
   "execution_count": 98,
   "metadata": {},
   "outputs": [],
   "source": [
    "match_dataset.dropna(inplace=True)"
   ]
  },
  {
   "cell_type": "markdown",
   "metadata": {},
   "source": [
    "### 4.1.2 Explore dataset (Correlation Matrix)"
   ]
  },
  {
   "cell_type": "code",
   "execution_count": 99,
   "metadata": {},
   "outputs": [
    {
     "data": {
      "text/plain": [
       "Text(0.5, 1.0, 'Football Features Heatmap')"
      ]
     },
     "execution_count": 99,
     "metadata": {},
     "output_type": "execute_result"
    },
    {
     "data": {
      "image/png": "[encoded data removed]",
      "text/plain": [
       "<Figure size 1296x864 with 2 Axes>"
      ]
     },
     "metadata": {
      "needs_background": "light"
     },
     "output_type": "display_data"
    }
   ],
   "source": [
    "plt.figure(figsize=(18, 12))\n",
    "corrM = match_dataset.corr()\n",
    "heatmap = sns.heatmap(corrM)\n",
    "heatmap.set_title('Football Features Heatmap', fontdict={'fontsize':12}, pad=12)"
   ]
  },
  {
   "cell_type": "markdown",
   "metadata": {},
   "source": [
    "### 4.1.3 Split dataset into Training and Test data"
   ]
  },
  {
   "cell_type": "code",
   "execution_count": 104,
   "metadata": {},
   "outputs": [],
   "source": [
    "from sklearn.model_selection import train_test_split\n",
    "\n",
    "# For X, we need to drop Label, Home Goals and Away Goals, as we will not have access to these values during a match \n",
    "X = match_dataset.drop([\"Label\", \"Home_Goals\", \"Away_Goals\"], axis=1)\n",
    "y = match_dataset[\"Label\"] # target values\n",
    "\n",
    "\n",
    "X_train, X_test, y_train, y_test = train_test_split(X, y, test_size=0.2)"
   ]
  },
  {
   "cell_type": "code",
   "execution_count": 114,
   "metadata": {},
   "outputs": [
    {
     "data": {
      "text/html": [
       "<div>\n",
       "<style scoped>\n",
       "    .dataframe tbody tr th:only-of-type {\n",
       "        vertical-align: middle;\n",
       "    }\n",
       "\n",
       "    .dataframe tbody tr th {\n",
       "        vertical-align: top;\n",
       "    }\n",
       "\n",
       "    .dataframe thead th {\n",
       "        text-align: right;\n",
       "    }\n",
       "</style>\n",
       "<table border=\"1\" class=\"dataframe\">\n",
       "  <thead>\n",
       "    <tr style=\"text-align: right;\">\n",
       "      <th></th>\n",
       "      <th>Number_teams</th>\n",
       "      <th>Total_rounds</th>\n",
       "      <th>Elo_home</th>\n",
       "      <th>Elo_away</th>\n",
       "      <th>Total_Streak_Home_Team</th>\n",
       "      <th>Total_Streak_Away_Team</th>\n",
       "      <th>Streak_When_Home</th>\n",
       "      <th>Streak_When_Away</th>\n",
       "      <th>Total_Wins_Home_Team</th>\n",
       "      <th>Total_Draws_Home_Team</th>\n",
       "      <th>...</th>\n",
       "      <th>Draws_When_Away</th>\n",
       "      <th>Losses_When_Away</th>\n",
       "      <th>Points_Home</th>\n",
       "      <th>Points_Away</th>\n",
       "      <th>Position_Home</th>\n",
       "      <th>Position_Away</th>\n",
       "      <th>Total_Goals_For_Home_Team</th>\n",
       "      <th>Total_Goals_Against_Home_Team</th>\n",
       "      <th>Total_Goals_For_Away_Team</th>\n",
       "      <th>Total_Goals_Against_Away_Team</th>\n",
       "    </tr>\n",
       "  </thead>\n",
       "  <tbody>\n",
       "    <tr>\n",
       "      <th>2519</th>\n",
       "      <td>20</td>\n",
       "      <td>38</td>\n",
       "      <td>69.0</td>\n",
       "      <td>83.0</td>\n",
       "      <td>0.0</td>\n",
       "      <td>0.0</td>\n",
       "      <td>1.0</td>\n",
       "      <td>0.0</td>\n",
       "      <td>4.0</td>\n",
       "      <td>8.0</td>\n",
       "      <td>...</td>\n",
       "      <td>6.0</td>\n",
       "      <td>3.0</td>\n",
       "      <td>20.0</td>\n",
       "      <td>35.0</td>\n",
       "      <td>18.0</td>\n",
       "      <td>8.0</td>\n",
       "      <td>18.0</td>\n",
       "      <td>28.0</td>\n",
       "      <td>28.0</td>\n",
       "      <td>17.0</td>\n",
       "    </tr>\n",
       "    <tr>\n",
       "      <th>130454</th>\n",
       "      <td>18</td>\n",
       "      <td>34</td>\n",
       "      <td>51.0</td>\n",
       "      <td>59.0</td>\n",
       "      <td>0.0</td>\n",
       "      <td>1.0</td>\n",
       "      <td>0.0</td>\n",
       "      <td>0.0</td>\n",
       "      <td>9.0</td>\n",
       "      <td>8.0</td>\n",
       "      <td>...</td>\n",
       "      <td>5.0</td>\n",
       "      <td>5.0</td>\n",
       "      <td>35.0</td>\n",
       "      <td>36.0</td>\n",
       "      <td>7.0</td>\n",
       "      <td>6.0</td>\n",
       "      <td>36.0</td>\n",
       "      <td>27.0</td>\n",
       "      <td>27.0</td>\n",
       "      <td>32.0</td>\n",
       "    </tr>\n",
       "    <tr>\n",
       "      <th>5584</th>\n",
       "      <td>20</td>\n",
       "      <td>38</td>\n",
       "      <td>87.0</td>\n",
       "      <td>66.0</td>\n",
       "      <td>2.0</td>\n",
       "      <td>0.0</td>\n",
       "      <td>1.0</td>\n",
       "      <td>0.0</td>\n",
       "      <td>11.0</td>\n",
       "      <td>6.0</td>\n",
       "      <td>...</td>\n",
       "      <td>3.0</td>\n",
       "      <td>8.0</td>\n",
       "      <td>39.0</td>\n",
       "      <td>26.0</td>\n",
       "      <td>7.0</td>\n",
       "      <td>17.0</td>\n",
       "      <td>27.0</td>\n",
       "      <td>20.0</td>\n",
       "      <td>22.0</td>\n",
       "      <td>31.0</td>\n",
       "    </tr>\n",
       "    <tr>\n",
       "      <th>94636</th>\n",
       "      <td>24</td>\n",
       "      <td>46</td>\n",
       "      <td>63.0</td>\n",
       "      <td>61.0</td>\n",
       "      <td>0.0</td>\n",
       "      <td>0.0</td>\n",
       "      <td>1.0</td>\n",
       "      <td>0.0</td>\n",
       "      <td>7.0</td>\n",
       "      <td>6.0</td>\n",
       "      <td>...</td>\n",
       "      <td>4.0</td>\n",
       "      <td>3.0</td>\n",
       "      <td>27.0</td>\n",
       "      <td>29.0</td>\n",
       "      <td>9.0</td>\n",
       "      <td>6.0</td>\n",
       "      <td>16.0</td>\n",
       "      <td>15.0</td>\n",
       "      <td>28.0</td>\n",
       "      <td>18.0</td>\n",
       "    </tr>\n",
       "    <tr>\n",
       "      <th>106271</th>\n",
       "      <td>18</td>\n",
       "      <td>34</td>\n",
       "      <td>76.0</td>\n",
       "      <td>66.0</td>\n",
       "      <td>1.0</td>\n",
       "      <td>0.0</td>\n",
       "      <td>0.0</td>\n",
       "      <td>0.0</td>\n",
       "      <td>1.0</td>\n",
       "      <td>1.0</td>\n",
       "      <td>...</td>\n",
       "      <td>0.0</td>\n",
       "      <td>2.0</td>\n",
       "      <td>4.0</td>\n",
       "      <td>3.0</td>\n",
       "      <td>9.0</td>\n",
       "      <td>16.0</td>\n",
       "      <td>4.0</td>\n",
       "      <td>8.0</td>\n",
       "      <td>4.0</td>\n",
       "      <td>7.0</td>\n",
       "    </tr>\n",
       "    <tr>\n",
       "      <th>...</th>\n",
       "      <td>...</td>\n",
       "      <td>...</td>\n",
       "      <td>...</td>\n",
       "      <td>...</td>\n",
       "      <td>...</td>\n",
       "      <td>...</td>\n",
       "      <td>...</td>\n",
       "      <td>...</td>\n",
       "      <td>...</td>\n",
       "      <td>...</td>\n",
       "      <td>...</td>\n",
       "      <td>...</td>\n",
       "      <td>...</td>\n",
       "      <td>...</td>\n",
       "      <td>...</td>\n",
       "      <td>...</td>\n",
       "      <td>...</td>\n",
       "      <td>...</td>\n",
       "      <td>...</td>\n",
       "      <td>...</td>\n",
       "      <td>...</td>\n",
       "    </tr>\n",
       "    <tr>\n",
       "      <th>91909</th>\n",
       "      <td>20</td>\n",
       "      <td>38</td>\n",
       "      <td>59.0</td>\n",
       "      <td>52.0</td>\n",
       "      <td>0.0</td>\n",
       "      <td>0.0</td>\n",
       "      <td>0.0</td>\n",
       "      <td>0.0</td>\n",
       "      <td>2.0</td>\n",
       "      <td>7.0</td>\n",
       "      <td>...</td>\n",
       "      <td>3.0</td>\n",
       "      <td>3.0</td>\n",
       "      <td>13.0</td>\n",
       "      <td>20.0</td>\n",
       "      <td>20.0</td>\n",
       "      <td>11.0</td>\n",
       "      <td>12.0</td>\n",
       "      <td>15.0</td>\n",
       "      <td>13.0</td>\n",
       "      <td>11.0</td>\n",
       "    </tr>\n",
       "    <tr>\n",
       "      <th>66037</th>\n",
       "      <td>18</td>\n",
       "      <td>34</td>\n",
       "      <td>68.0</td>\n",
       "      <td>71.0</td>\n",
       "      <td>0.0</td>\n",
       "      <td>0.0</td>\n",
       "      <td>1.0</td>\n",
       "      <td>0.0</td>\n",
       "      <td>5.0</td>\n",
       "      <td>6.0</td>\n",
       "      <td>...</td>\n",
       "      <td>6.0</td>\n",
       "      <td>7.0</td>\n",
       "      <td>21.0</td>\n",
       "      <td>30.0</td>\n",
       "      <td>17.0</td>\n",
       "      <td>12.0</td>\n",
       "      <td>20.0</td>\n",
       "      <td>44.0</td>\n",
       "      <td>16.0</td>\n",
       "      <td>24.0</td>\n",
       "    </tr>\n",
       "    <tr>\n",
       "      <th>77043</th>\n",
       "      <td>20</td>\n",
       "      <td>38</td>\n",
       "      <td>54.0</td>\n",
       "      <td>63.0</td>\n",
       "      <td>0.0</td>\n",
       "      <td>0.0</td>\n",
       "      <td>0.0</td>\n",
       "      <td>0.0</td>\n",
       "      <td>2.0</td>\n",
       "      <td>5.0</td>\n",
       "      <td>...</td>\n",
       "      <td>0.0</td>\n",
       "      <td>1.0</td>\n",
       "      <td>11.0</td>\n",
       "      <td>19.0</td>\n",
       "      <td>10.0</td>\n",
       "      <td>1.0</td>\n",
       "      <td>5.0</td>\n",
       "      <td>4.0</td>\n",
       "      <td>12.0</td>\n",
       "      <td>4.0</td>\n",
       "    </tr>\n",
       "    <tr>\n",
       "      <th>82102</th>\n",
       "      <td>22</td>\n",
       "      <td>42</td>\n",
       "      <td>55.0</td>\n",
       "      <td>58.0</td>\n",
       "      <td>0.0</td>\n",
       "      <td>1.0</td>\n",
       "      <td>0.0</td>\n",
       "      <td>0.0</td>\n",
       "      <td>9.0</td>\n",
       "      <td>6.0</td>\n",
       "      <td>...</td>\n",
       "      <td>5.0</td>\n",
       "      <td>6.0</td>\n",
       "      <td>33.0</td>\n",
       "      <td>37.0</td>\n",
       "      <td>15.0</td>\n",
       "      <td>11.0</td>\n",
       "      <td>27.0</td>\n",
       "      <td>29.0</td>\n",
       "      <td>26.0</td>\n",
       "      <td>25.0</td>\n",
       "    </tr>\n",
       "    <tr>\n",
       "      <th>5572</th>\n",
       "      <td>20</td>\n",
       "      <td>38</td>\n",
       "      <td>81.0</td>\n",
       "      <td>74.0</td>\n",
       "      <td>0.0</td>\n",
       "      <td>0.0</td>\n",
       "      <td>0.0</td>\n",
       "      <td>0.0</td>\n",
       "      <td>7.0</td>\n",
       "      <td>13.0</td>\n",
       "      <td>...</td>\n",
       "      <td>4.0</td>\n",
       "      <td>6.0</td>\n",
       "      <td>34.0</td>\n",
       "      <td>16.0</td>\n",
       "      <td>10.0</td>\n",
       "      <td>19.0</td>\n",
       "      <td>30.0</td>\n",
       "      <td>20.0</td>\n",
       "      <td>15.0</td>\n",
       "      <td>31.0</td>\n",
       "    </tr>\n",
       "  </tbody>\n",
       "</table>\n",
       "<p>97560 rows × 28 columns</p>\n",
       "</div>"
      ],
      "text/plain": [
       "        Number_teams  Total_rounds  Elo_home  Elo_away  \\\n",
       "2519              20            38      69.0      83.0   \n",
       "130454            18            34      51.0      59.0   \n",
       "5584              20            38      87.0      66.0   \n",
       "94636             24            46      63.0      61.0   \n",
       "106271            18            34      76.0      66.0   \n",
       "...              ...           ...       ...       ...   \n",
       "91909             20            38      59.0      52.0   \n",
       "66037             18            34      68.0      71.0   \n",
       "77043             20            38      54.0      63.0   \n",
       "82102             22            42      55.0      58.0   \n",
       "5572              20            38      81.0      74.0   \n",
       "\n",
       "        Total_Streak_Home_Team  Total_Streak_Away_Team  Streak_When_Home  \\\n",
       "2519                       0.0                     0.0               1.0   \n",
       "130454                     0.0                     1.0               0.0   \n",
       "5584                       2.0                     0.0               1.0   \n",
       "94636                      0.0                     0.0               1.0   \n",
       "106271                     1.0                     0.0               0.0   \n",
       "...                        ...                     ...               ...   \n",
       "91909                      0.0                     0.0               0.0   \n",
       "66037                      0.0                     0.0               1.0   \n",
       "77043                      0.0                     0.0               0.0   \n",
       "82102                      0.0                     1.0               0.0   \n",
       "5572                       0.0                     0.0               0.0   \n",
       "\n",
       "        Streak_When_Away  Total_Wins_Home_Team  Total_Draws_Home_Team  ...  \\\n",
       "2519                 0.0                   4.0                    8.0  ...   \n",
       "130454               0.0                   9.0                    8.0  ...   \n",
       "5584                 0.0                  11.0                    6.0  ...   \n",
       "94636                0.0                   7.0                    6.0  ...   \n",
       "106271               0.0                   1.0                    1.0  ...   \n",
       "...                  ...                   ...                    ...  ...   \n",
       "91909                0.0                   2.0                    7.0  ...   \n",
       "66037                0.0                   5.0                    6.0  ...   \n",
       "77043                0.0                   2.0                    5.0  ...   \n",
       "82102                0.0                   9.0                    6.0  ...   \n",
       "5572                 0.0                   7.0                   13.0  ...   \n",
       "\n",
       "        Draws_When_Away  Losses_When_Away  Points_Home  Points_Away  \\\n",
       "2519                6.0               3.0         20.0         35.0   \n",
       "130454              5.0               5.0         35.0         36.0   \n",
       "5584                3.0               8.0         39.0         26.0   \n",
       "94636               4.0               3.0         27.0         29.0   \n",
       "106271              0.0               2.0          4.0          3.0   \n",
       "...                 ...               ...          ...          ...   \n",
       "91909               3.0               3.0         13.0         20.0   \n",
       "66037               6.0               7.0         21.0         30.0   \n",
       "77043               0.0               1.0         11.0         19.0   \n",
       "82102               5.0               6.0         33.0         37.0   \n",
       "5572                4.0               6.0         34.0         16.0   \n",
       "\n",
       "        Position_Home  Position_Away  Total_Goals_For_Home_Team  \\\n",
       "2519             18.0            8.0                       18.0   \n",
       "130454            7.0            6.0                       36.0   \n",
       "5584              7.0           17.0                       27.0   \n",
       "94636             9.0            6.0                       16.0   \n",
       "106271            9.0           16.0                        4.0   \n",
       "...               ...            ...                        ...   \n",
       "91909            20.0           11.0                       12.0   \n",
       "66037            17.0           12.0                       20.0   \n",
       "77043            10.0            1.0                        5.0   \n",
       "82102            15.0           11.0                       27.0   \n",
       "5572             10.0           19.0                       30.0   \n",
       "\n",
       "        Total_Goals_Against_Home_Team  Total_Goals_For_Away_Team  \\\n",
       "2519                             28.0                       28.0   \n",
       "130454                           27.0                       27.0   \n",
       "5584                             20.0                       22.0   \n",
       "94636                            15.0                       28.0   \n",
       "106271                            8.0                        4.0   \n",
       "...                               ...                        ...   \n",
       "91909                            15.0                       13.0   \n",
       "66037                            44.0                       16.0   \n",
       "77043                             4.0                       12.0   \n",
       "82102                            29.0                       26.0   \n",
       "5572                             20.0                       15.0   \n",
       "\n",
       "        Total_Goals_Against_Away_Team  \n",
       "2519                             17.0  \n",
       "130454                           32.0  \n",
       "5584                             31.0  \n",
       "94636                            18.0  \n",
       "106271                            7.0  \n",
       "...                               ...  \n",
       "91909                            11.0  \n",
       "66037                            24.0  \n",
       "77043                             4.0  \n",
       "82102                            25.0  \n",
       "5572                             31.0  \n",
       "\n",
       "[97560 rows x 28 columns]"
      ]
     },
     "execution_count": 114,
     "metadata": {},
     "output_type": "execute_result"
    }
   ],
   "source": [
    "X_train.iloc[:, 7:]"
   ]
  },
  {
   "cell_type": "markdown",
   "metadata": {},
   "source": [
    "### 4.1.4 Train Logistic Regression Model"
   ]
  },
  {
   "cell_type": "markdown",
   "metadata": {},
   "source": [
    "We are using Logistic Regression to fit the model and obtain a baseline score."
   ]
  },
  {
   "cell_type": "code",
   "execution_count": 112,
   "metadata": {},
   "outputs": [
    {
     "name": "stderr",
     "output_type": "stream",
     "text": [
      "/home/arman/miniconda3/lib/python3.9/site-packages/sklearn/linear_model/_logistic.py:814: ConvergenceWarning: lbfgs failed to converge (status=1):\n",
      "STOP: TOTAL NO. of ITERATIONS REACHED LIMIT.\n",
      "\n",
      "Increase the number of iterations (max_iter) or scale the data as shown in:\n",
      "    https://scikit-learn.org/stable/modules/preprocessing.html\n",
      "Please also refer to the documentation for alternative solver options:\n",
      "    https://scikit-learn.org/stable/modules/linear_model.html#logistic-regression\n",
      "  n_iter_i = _check_optimize_result(\n"
     ]
    },
    {
     "data": {
      "text/plain": [
       "LogisticRegression()"
      ]
     },
     "execution_count": 112,
     "metadata": {},
     "output_type": "execute_result"
    }
   ],
   "source": [
    "from sklearn.linear_model import LogisticRegression\n",
    "\n",
    "model = LogisticRegression()\n",
    "model.fit(X_train.iloc[:, 7:], y_train) # using X_train.iloc[:, 7:] as first 7 features are unneeded and not in integer/float format"
   ]
  },
  {
   "cell_type": "code",
   "execution_count": 113,
   "metadata": {},
   "outputs": [
    {
     "data": {
      "text/plain": [
       "0.4930709307093071"
      ]
     },
     "execution_count": 113,
     "metadata": {},
     "output_type": "execute_result"
    }
   ],
   "source": [
    "model.score(X_test.iloc[:, 7:], y_test)"
   ]
  },
  {
   "cell_type": "markdown",
   "metadata": {},
   "source": [
    "Logistic Regression gives us a baseline accuracy score of ~50%. This is okay but can be better. There are a variety of different things we can do to improve this score."
   ]
  },
  {
   "cell_type": "markdown",
   "metadata": {},
   "source": [
    "## 4.2 Feature Selection"
   ]
  },
  {
   "cell_type": "markdown",
   "metadata": {},
   "source": [
    "A way we can improve our score is by using Feature Selection.\n",
    "\n",
    "Feature Selection is the process of reducing the number of features in our dataset during training to improve the performance of the model. "
   ]
  },
  {
   "cell_type": "code",
   "execution_count": 144,
   "metadata": {},
   "outputs": [
    {
     "data": {
      "text/plain": [
       "Index(['Number_teams', 'Total_rounds', 'Elo_home', 'Elo_away',\n",
       "       'Total_Streak_Home_Team', 'Total_Streak_Away_Team', 'Streak_When_Home',\n",
       "       'Streak_When_Away', 'Total_Wins_Home_Team', 'Total_Draws_Home_Team',\n",
       "       'Total_Loss_Home_Team', 'Total_Wins_Away_Team', 'Total_Draws_Away_Team',\n",
       "       'Total_Loss_Away_Team', 'Wins_When_Home', 'Draws_When_Home',\n",
       "       'Losses_When_Home', 'Wins_When_Away', 'Draws_When_Away',\n",
       "       'Losses_When_Away', 'Points_Home', 'Points_Away', 'Position_Home',\n",
       "       'Position_Away', 'Total_Goals_For_Home_Team',\n",
       "       'Total_Goals_Against_Home_Team', 'Total_Goals_For_Away_Team',\n",
       "       'Total_Goals_Against_Away_Team'],\n",
       "      dtype='object')"
      ]
     },
     "execution_count": 144,
     "metadata": {},
     "output_type": "execute_result"
    }
   ],
   "source": [
    "X_train.iloc[:, 7:].columns"
   ]
  },
  {
   "cell_type": "code",
   "execution_count": 142,
   "metadata": {},
   "outputs": [
    {
     "data": {
      "text/plain": [
       "28"
      ]
     },
     "execution_count": 142,
     "metadata": {},
     "output_type": "execute_result"
    }
   ],
   "source": [
    "len(X_train.iloc[:, 7:].columns)"
   ]
  },
  {
   "cell_type": "code",
   "execution_count": 139,
   "metadata": {},
   "outputs": [
    {
     "data": {
      "text/plain": [
       "array([ 0.00460001,  0.00056527,  0.02197172, -0.01916025,  0.01223139,\n",
       "       -0.00847378,  0.01554471, -0.00355069, -0.00125185, -0.00168415,\n",
       "       -0.00160911,  0.00223825, -0.00107472, -0.00557137,  0.00251392,\n",
       "        0.00043798, -0.00912235, -0.00900301, -0.0023577 ,  0.003371  ,\n",
       "       -0.0054397 ,  0.00564002, -0.00432457,  0.00854281,  0.01306223,\n",
       "       -0.00992207, -0.0130878 ,  0.01349627])"
      ]
     },
     "execution_count": 139,
     "metadata": {},
     "output_type": "execute_result"
    }
   ],
   "source": [
    "model.coef_[0] # -1\n",
    "model.coef_[1] # 0\n",
    "model.coef_[2] # 1"
   ]
  },
  {
   "cell_type": "code",
   "execution_count": 155,
   "metadata": {},
   "outputs": [
    {
     "data": {
      "text/plain": [
       "{'Number_teams': -0.008012050455323803,\n",
       " 'Total_rounds': -0.0027546292737227387,\n",
       " 'Elo_home': -0.019898513682867523,\n",
       " 'Elo_away': 0.020321331536273374,\n",
       " 'Total_Streak_Home_Team': -0.011694219626348715,\n",
       " 'Total_Streak_Away_Team': 0.010479508150655308,\n",
       " 'Streak_When_Home': -0.010752342007866646,\n",
       " 'Streak_When_Away': 0.006284454715015947,\n",
       " 'Total_Wins_Home_Team': 0.001692061945997757,\n",
       " 'Total_Draws_Home_Team': -0.0027274883261482587,\n",
       " 'Total_Loss_Home_Team': 0.0015613139781498247,\n",
       " 'Total_Wins_Away_Team': -0.0014173402465186586,\n",
       " 'Total_Draws_Away_Team': -0.003927043824053212,\n",
       " 'Total_Loss_Away_Team': 0.005878160101532255,\n",
       " 'Wins_When_Home': -0.010347624543400885,\n",
       " 'Draws_When_Home': -0.0035332032412974004,\n",
       " 'Losses_When_Home': 0.015399234292361053,\n",
       " 'Wins_When_Away': 0.016466049885868913,\n",
       " 'Draws_When_Away': -8.531035566697899e-05,\n",
       " 'Losses_When_Away': -0.01179337014747893,\n",
       " 'Points_Home': 0.0023486975118443294,\n",
       " 'Points_Away': -0.008179064563609055,\n",
       " 'Position_Home': 0.0030210159836286015,\n",
       " 'Position_Away': -0.006756010333237321,\n",
       " 'Total_Goals_For_Home_Team': -0.007150143606535332,\n",
       " 'Total_Goals_Against_Home_Team': 0.010000740780057232,\n",
       " 'Total_Goals_For_Away_Team': 0.014824991099063517,\n",
       " 'Total_Goals_Against_Away_Team': -0.010737070298398021}"
      ]
     },
     "execution_count": 155,
     "metadata": {},
     "output_type": "execute_result"
    }
   ],
   "source": [
    "wins = {}\n",
    "draws = {}\n",
    "loss = {}\n",
    "\n",
    "for i in range(len(X_train.iloc[:, 7:].columns)):\n",
    "    loss[X_train.iloc[:, 7:].columns[i]] = model.coef_[0][i]\n",
    "\n",
    "for i in range(len(X_train.iloc[:, 7:].columns)):\n",
    "    draws[X_train.iloc[:, 7:].columns[i]] = model.coef_[1][i]\n",
    "\n",
    "for i in range(len(X_train.iloc[:, 7:].columns)):\n",
    "    wins[X_train.iloc[:, 7:].columns[i]] = model.coef_[2][i]\n",
    "\n",
    "loss"
   ]
  },
  {
   "cell_type": "code",
   "execution_count": 51,
   "metadata": {},
   "outputs": [
    {
     "data": {
      "text/plain": [
       "array([[ 651,   40,    0],\n",
       "       [  36,  548,   35],\n",
       "       [   0,   26, 1144]])"
      ]
     },
     "execution_count": 51,
     "metadata": {},
     "output_type": "execute_result"
    }
   ],
   "source": [
    "from sklearn.metrics import confusion_matrix\n",
    "\n",
    "y_true = list(y_test)\n",
    "y_pred = list(model.predict(X_test.iloc[:, 7:]))\n",
    "\n",
    "cf_matrix = confusion_matrix(y_true, y_pred)\n",
    "cf_matrix"
   ]
  },
  {
   "cell_type": "code",
   "execution_count": 59,
   "metadata": {},
   "outputs": [
    {
     "data": {
      "text/plain": [
       "<AxesSubplot:>"
      ]
     },
     "execution_count": 59,
     "metadata": {},
     "output_type": "execute_result"
    },
    {
     "data": {
      "image/png": "[encoded data removed]",
      "text/plain": [
       "<Figure size 1296x864 with 2 Axes>"
      ]
     },
     "metadata": {
      "needs_background": "light"
     },
     "output_type": "display_data"
    }
   ],
   "source": [
    "plt.figure(figsize=(18, 12))\n",
    "sns.heatmap(cf_matrix, annot=True)"
   ]
  },
  {
   "cell_type": "markdown",
   "metadata": {},
   "source": [
    "# NAIVE BAYES"
   ]
  },
  {
   "cell_type": "code",
   "execution_count": 84,
   "metadata": {},
   "outputs": [
    {
     "data": {
      "text/plain": [
       "GaussianNB()"
      ]
     },
     "execution_count": 84,
     "metadata": {},
     "output_type": "execute_result"
    }
   ],
   "source": [
    "# Create Gaussian Naive Bayes model object\n",
    "from sklearn.naive_bayes import GaussianNB\n",
    "model = GaussianNB()\n",
    "model.fit(X_train.iloc[:, 7:], y_train)"
   ]
  },
  {
   "cell_type": "code",
   "execution_count": 85,
   "metadata": {},
   "outputs": [
    {
     "data": {
      "text/plain": [
       "0.4364083640836408"
      ]
     },
     "execution_count": 85,
     "metadata": {},
     "output_type": "execute_result"
    }
   ],
   "source": [
    "model.score(X_test.iloc[:, 7:], y_test)"
   ]
  },
  {
   "cell_type": "code",
   "execution_count": 70,
   "metadata": {},
   "outputs": [
    {
     "data": {
      "text/plain": [
       "42846   -1\n",
       "38046    1\n",
       "34070    0\n",
       "32793    1\n",
       "39659    1\n",
       "32625    1\n",
       "36073    1\n",
       "42005   -1\n",
       "39281    1\n",
       "41052   -1\n",
       "Name: Label, dtype: int64"
      ]
     },
     "execution_count": 70,
     "metadata": {},
     "output_type": "execute_result"
    }
   ],
   "source": [
    "y_test[:10]"
   ]
  },
  {
   "cell_type": "code",
   "execution_count": 56,
   "metadata": {},
   "outputs": [
    {
     "data": {
      "text/plain": [
       "array([ 0, -1,  1,  0,  0,  0,  0,  0,  0,  1])"
      ]
     },
     "execution_count": 56,
     "metadata": {},
     "output_type": "execute_result"
    }
   ],
   "source": [
    "model.predict(X_test.iloc[:, 7:][:10])"
   ]
  },
  {
   "cell_type": "code",
   "execution_count": 57,
   "metadata": {},
   "outputs": [
    {
     "data": {
      "text/plain": [
       "array([[2.32358234e-01, 7.19043414e-01, 4.85983528e-02],\n",
       "       [9.67041783e-01, 3.28875607e-02, 7.06564807e-05],\n",
       "       [5.19960460e-11, 1.07748659e-05, 9.99989225e-01],\n",
       "       [3.09584892e-01, 5.75357658e-01, 1.15057449e-01],\n",
       "       [5.56133422e-02, 6.13255746e-01, 3.31130911e-01],\n",
       "       [2.30347338e-01, 6.75497019e-01, 9.41556432e-02],\n",
       "       [1.54789790e-01, 6.88481057e-01, 1.56729153e-01],\n",
       "       [1.90976814e-01, 6.73971506e-01, 1.35051680e-01],\n",
       "       [3.29770050e-01, 6.06066109e-01, 6.41638409e-02],\n",
       "       [3.12560554e-02, 3.77574510e-01, 5.91169435e-01]])"
      ]
     },
     "execution_count": 57,
     "metadata": {},
     "output_type": "execute_result"
    }
   ],
   "source": [
    "model.predict_proba(X_test.iloc[:, 7:][:10])"
   ]
  },
  {
   "cell_type": "code",
   "execution_count": 86,
   "metadata": {},
   "outputs": [
    {
     "data": {
      "text/plain": [
       "<AxesSubplot:>"
      ]
     },
     "execution_count": 86,
     "metadata": {},
     "output_type": "execute_result"
    },
    {
     "data": {
      "image/png": "[encoded data removed]",
      "text/plain": [
       "<Figure size 1296x864 with 2 Axes>"
      ]
     },
     "metadata": {
      "needs_background": "light"
     },
     "output_type": "display_data"
    }
   ],
   "source": [
    "from sklearn.metrics import confusion_matrix\n",
    "import numpy as np\n",
    "\n",
    "y_true = list(y_test)\n",
    "y_pred = list(model.predict(X_test.iloc[:, 7:]))\n",
    "\n",
    "cf_matrix = confusion_matrix(y_true, y_pred)\n",
    "plt.figure(figsize=(18, 12))\n",
    "#sns.heatmap(cf_matrix, annot=True)\n",
    "sns.heatmap(cf_matrix/np.sum(cf_matrix), annot=True, fmt='.2%')"
   ]
  },
  {
   "cell_type": "code",
   "execution_count": 87,
   "metadata": {},
   "outputs": [
    {
     "data": {
      "text/plain": [
       "{7: 0.4364083640836408,\n",
       " 8: 0.4355063550635506,\n",
       " 9: 0.43485034850348503,\n",
       " 10: 0.4312423124231242,\n",
       " 11: 0.4269372693726937,\n",
       " 12: 0.44362443624436243,\n",
       " 13: 0.4351373513735137,\n",
       " 14: 0.44965149651496517,\n",
       " 15: 0.44649446494464945,\n",
       " 16: 0.45510455104551045,\n",
       " 17: 0.45506355063550635,\n",
       " 18: 0.45662156621566213,\n",
       " 19: 0.45469454694546946,\n",
       " 20: 0.45477654776547766,\n",
       " 21: 0.46043460434604344,\n",
       " 22: 0.4652726527265273,\n",
       " 23: 0.4652316523165232,\n",
       " 24: 0.46687166871668717,\n",
       " 25: 0.46826568265682655,\n",
       " 26: 0.46773267732677326,\n",
       " 27: 0.46896268962689625,\n",
       " 28: 0.47129971299712997}"
      ]
     },
     "execution_count": 87,
     "metadata": {},
     "output_type": "execute_result"
    }
   ],
   "source": [
    "new = {}\n",
    "\n",
    "\n",
    "for features in range(7, 29): \n",
    "    model.fit(X_train.iloc[:, features:], y_train)\n",
    "    new[features] = model.score(X_test.iloc[:, features:], y_test)\n",
    "\n",
    "new"
   ]
  },
  {
   "cell_type": "code",
   "execution_count": null,
   "metadata": {},
   "outputs": [],
   "source": []
  }
 ],
 "metadata": {
  "interpreter": {
   "hash": "9e1d592928d6e6e4f955f485b0700a17a3be63332de98b980658a4daa5c72c07"
  },
  "kernelspec": {
   "display_name": "Python 3.9.12 ('base')",
   "language": "python",
   "name": "python3"
  },
  "language_info": {
   "codemirror_mode": {
    "name": "ipython",
    "version": 3
   },
   "file_extension": ".py",
   "mimetype": "text/x-python",
   "name": "python",
   "nbconvert_exporter": "python",
   "pygments_lexer": "ipython3",
   "version": "3.9.12"
  },
  "orig_nbformat": 4
 },
 "nbformat": 4,
 "nbformat_minor": 2
}
